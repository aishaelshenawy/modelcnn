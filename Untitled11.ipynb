{
  "nbformat": 4,
  "nbformat_minor": 0,
  "metadata": {
    "colab": {
      "name": "Untitled11.ipynb",
      "provenance": []
    },
    "kernelspec": {
      "name": "python3",
      "display_name": "Python 3"
    },
    "language_info": {
      "name": "python"
    }
  },
  "cells": [
    {
      "cell_type": "code",
      "execution_count": 1,
      "metadata": {
        "id": "6jD2FRb0jPfp"
      },
      "outputs": [],
      "source": [
        "import cv2\n",
        "import numpy as np\n",
        "import os\n",
        "from random import shuffle\n",
        "from tqdm import tqdm\n",
        "import tensorflow as tf\n",
        "import matplotlib.pyplot as plt"
      ]
    },
    {
      "cell_type": "code",
      "source": [
        "from zipfile import ZipFile\n",
        "file_name = \"/content/sample_data/Downloads.zip\"\n",
        "with ZipFile(file_name, 'r') as zip:\n",
        "  zip.extractall('/content/sample_data')\n",
        "  print('done')"
      ],
      "metadata": {
        "colab": {
          "base_uri": "https://localhost:8080/"
        },
        "id": "YA5rZikQjt_P",
        "outputId": "5c2e32c7-9152-408b-99d6-985ffa8edefc"
      },
      "execution_count": 5,
      "outputs": [
        {
          "output_type": "stream",
          "name": "stdout",
          "text": [
            "done\n"
          ]
        }
      ]
    },
    {
      "cell_type": "code",
      "source": [
        "TRAIN_DIR = '/content/sample_data/train'\n",
        "TEST_DIR = '/content/sample_data/test'\n",
        "IMG_SIZE = 250\n",
        "LR = 0.001\n",
        "MODEL_NAME = 'xray'"
      ],
      "metadata": {
        "id": "-BfHDBU1kKHy"
      },
      "execution_count": 8,
      "outputs": []
    },
    {
      "cell_type": "code",
      "source": [
        "def create_label(image_name):\n",
        "    \"\"\" Create an one-hot encoded vector from image name \"\"\"\n",
        "    word_label = (image_name.split('.')[-3])\n",
        "    if word_label == 'Cofield':\n",
        "        return np.array([1,0,0,0])\n",
        "    elif word_label == 'Zimmer':\n",
        "        return np.array([0,1,0,0])\n",
        "    elif word_label == 'Tornier':\n",
        "       return np.array([0,0,1,0])\n",
        "    elif word_label == 'Depuy':\n",
        "       return np.array([0,0,0,1])"
      ],
      "metadata": {
        "id": "Y2HoiYJGkhu-"
      },
      "execution_count": 26,
      "outputs": []
    },
    {
      "cell_type": "code",
      "source": [
        "create_label('Cofield.1.jpg')"
      ],
      "metadata": {
        "colab": {
          "base_uri": "https://localhost:8080/"
        },
        "id": "GXA0hpRxpjH3",
        "outputId": "5cd98b87-d1be-4b54-e9eb-d8f99972a2ee"
      },
      "execution_count": 29,
      "outputs": [
        {
          "output_type": "execute_result",
          "data": {
            "text/plain": [
              "array([1, 0, 0, 0])"
            ]
          },
          "metadata": {},
          "execution_count": 29
        }
      ]
    },
    {
      "cell_type": "code",
      "source": [
        "def create_train_data():\n",
        "    training_data = []\n",
        "    for img in tqdm(os.listdir(TRAIN_DIR)):\n",
        "        path = os.path.join(TRAIN_DIR, img)\n",
        "        img_data = cv2.imread(path, 0)\n",
        "        img_data = cv2.resize(img_data, (IMG_SIZE, IMG_SIZE))\n",
        "        training_data.append([np.array(img_data), create_label(img)])\n",
        "    shuffle(training_data)\n",
        "    return training_data"
      ],
      "metadata": {
        "id": "z7SyVcl6n3og"
      },
      "execution_count": 33,
      "outputs": []
    },
    {
      "cell_type": "code",
      "source": [
        "X =[]\n",
        "y =[]\n",
        "for features, label in create_train_data():\n",
        "  X.append(features)\n",
        "  y.append(label)\n",
        "X = np.array(X).reshape(-1, IMG_SIZE, IMG_SIZE,1)"
      ],
      "metadata": {
        "colab": {
          "base_uri": "https://localhost:8080/"
        },
        "id": "O-urPI3woia9",
        "outputId": "8bc69622-3f1c-47ac-affa-4c22cf4ec650"
      },
      "execution_count": 65,
      "outputs": [
        {
          "output_type": "stream",
          "name": "stderr",
          "text": [
            "100%|██████████| 597/597 [00:00<00:00, 1824.38it/s]\n"
          ]
        }
      ]
    },
    {
      "cell_type": "code",
      "source": [
        "X.shape"
      ],
      "metadata": {
        "colab": {
          "base_uri": "https://localhost:8080/"
        },
        "id": "7bS2zVW7tpTM",
        "outputId": "d62634a9-363a-43cb-e0cc-ff59864f4dd4"
      },
      "execution_count": 66,
      "outputs": [
        {
          "output_type": "execute_result",
          "data": {
            "text/plain": [
              "(597, 250, 250, 1)"
            ]
          },
          "metadata": {},
          "execution_count": 66
        }
      ]
    },
    {
      "cell_type": "code",
      "source": [
        "X = X.astype('float32')\n",
        "X /= 250\n",
        "from keras.utils import np_utils\n",
        "Y = np_utils.to_categorical(y, 4)\n",
        "print(Y[90])\n",
        "X.shape\n",
        "\n"
      ],
      "metadata": {
        "colab": {
          "base_uri": "https://localhost:8080/"
        },
        "id": "q1jGV2W3oqQn",
        "outputId": "59a454a6-f534-45e6-f4ae-f1f3d88ba4ba"
      },
      "execution_count": 71,
      "outputs": [
        {
          "output_type": "stream",
          "name": "stdout",
          "text": [
            "[[1. 0. 0. 0.]\n",
            " [1. 0. 0. 0.]\n",
            " [0. 1. 0. 0.]\n",
            " [1. 0. 0. 0.]]\n"
          ]
        },
        {
          "output_type": "execute_result",
          "data": {
            "text/plain": [
              "(597, 250, 250, 1)"
            ]
          },
          "metadata": {},
          "execution_count": 71
        }
      ]
    },
    {
      "cell_type": "code",
      "source": [
        "from sklearn.model_selection import train_test_split\n",
        "X_train, X_test, y_train, y_test = train_test_split(X, y, test_size = 0.3)"
      ],
      "metadata": {
        "id": "C6sT2RLYt-_V"
      },
      "execution_count": 68,
      "outputs": []
    },
    {
      "cell_type": "code",
      "source": [
        "X_train.shape"
      ],
      "metadata": {
        "colab": {
          "base_uri": "https://localhost:8080/"
        },
        "id": "kkD-l7RUwc-9",
        "outputId": "0eeb1e93-72e6-462f-9fb8-ec7985e8629d"
      },
      "execution_count": 70,
      "outputs": [
        {
          "output_type": "execute_result",
          "data": {
            "text/plain": [
              "(417, 250, 250, 1)"
            ]
          },
          "metadata": {},
          "execution_count": 70
        }
      ]
    },
    {
      "cell_type": "code",
      "source": [
        "X_test.shape"
      ],
      "metadata": {
        "colab": {
          "base_uri": "https://localhost:8080/"
        },
        "id": "uL36neRrw1_a",
        "outputId": "0bbb05b3-879a-4607-e800-31edc997e054"
      },
      "execution_count": 73,
      "outputs": [
        {
          "output_type": "execute_result",
          "data": {
            "text/plain": [
              "(180, 250, 250, 1)"
            ]
          },
          "metadata": {},
          "execution_count": 73
        }
      ]
    },
    {
      "cell_type": "code",
      "source": [
        ""
      ],
      "metadata": {
        "id": "8RZbVPMqz1Vy"
      },
      "execution_count": null,
      "outputs": []
    },
    {
      "cell_type": "code",
      "source": [
        ""
      ],
      "metadata": {
        "id": "mjWaRUFaz1qF"
      },
      "execution_count": null,
      "outputs": []
    }
  ]
}